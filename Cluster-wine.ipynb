{
  "nbformat": 4,
  "nbformat_minor": 0,
  "metadata": {
    "colab": {
      "name": "Untitled1.ipynb",
      "provenance": [],
      "authorship_tag": "ABX9TyOO89oZPpYuZkd/fRfjzITZ",
      "include_colab_link": true
    },
    "kernelspec": {
      "name": "python3",
      "display_name": "Python 3"
    }
  },
  "cells": [
    {
      "cell_type": "markdown",
      "metadata": {
        "id": "view-in-github",
        "colab_type": "text"
      },
      "source": [
        "<a href=\"https://colab.research.google.com/github/platoml/markdown-portfolio/blob/master/Cluster-wine.ipynb\" target=\"_parent\"><img src=\"https://colab.research.google.com/assets/colab-badge.svg\" alt=\"Open In Colab\"/></a>"
      ]
    },
    {
      "cell_type": "code",
      "metadata": {
        "id": "KiLeRtQg_vVu",
        "outputId": "86ac052f-fd94-4c05-dc7d-5de49eccabc5",
        "colab": {
          "base_uri": "https://localhost:8080/"
        }
      },
      "source": [
        "import datetime\n",
        "print(datetime.datetime.now())"
      ],
      "execution_count": 1,
      "outputs": [
        {
          "output_type": "stream",
          "text": [
            "2020-11-03 02:54:08.981685\n"
          ],
          "name": "stdout"
        }
      ]
    },
    {
      "cell_type": "code",
      "metadata": {
        "id": "-xa20dH8_woG"
      },
      "source": [
        "scaler = StandardScaler()\n",
        "features = ['AnnualIncome', 'SpendingScore']\n",
        "X[features] = scaler.fit_transform(X[features])"
      ],
      "execution_count": null,
      "outputs": []
    }
  ]
}